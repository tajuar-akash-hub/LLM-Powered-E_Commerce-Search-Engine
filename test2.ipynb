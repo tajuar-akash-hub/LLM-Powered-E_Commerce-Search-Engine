{
 "cells": [
  {
   "cell_type": "code",
   "execution_count": 9,
   "metadata": {},
   "outputs": [
    {
     "data": {
      "text/plain": [
       "True"
      ]
     },
     "execution_count": 9,
     "metadata": {},
     "output_type": "execute_result"
    }
   ],
   "source": [
    "import requests\n",
    "import os\n",
    "from dotenv import load_dotenv\n",
    "import time\n",
    "import pandas as pd\n",
    "pd.set_option(\"display.max_colwidth\", 1000)\n",
    "load_dotenv()"
   ]
  },
  {
   "cell_type": "code",
   "execution_count": null,
   "metadata": {},
   "outputs": [],
   "source": [
    "!pip install transformers faiss-cpu\n"
   ]
  },
  {
   "cell_type": "code",
   "execution_count": null,
   "metadata": {},
   "outputs": [
    {
     "name": "stdout",
     "output_type": "stream",
     "text": [
      "The name \"Dhaka\" is derived from the Bengali word \"ঢাকা\" (Ḍhākā). There are several theories about the origin of the name \"Dhaka\". Here are a few:\n",
      "\n",
      "1. One theory is that the name \"Dhaka\" comes from the Dhakeshwari temple, which is a famous Hindu temple in the city. The temple is dedicated to the goddess Dhakeshwari, and the city may have been named after it.\n",
      "2. Another theory is that the name \"Dhaka\" is derived from the Bengali word \"ঢাক\" (Ḍhāk), which means \"hidden\" or \"covered\". This theory suggests that the city was named \"Dhaka\" because it was a hidden or covered place, possibly due to its location in a bend of the Buriganga River.\n",
      "3. A third theory is that the name \"Dhaka\" comes from the name of a local ruler, Dhaka Ray, who is said to have founded the city in the 7th century.\n",
      "\n",
      "Overall, the origin of the name \"Dhaka\" is not certain, and different theories have been proposed over time. However, the name \"Dhaka\" has been in use for centuries, and it is now widely recognized as the name of the capital city of Bangladesh.\n"
     ]
    }
   ],
   "source": [
    "\n",
    "\n",
    "\n",
    "\n"
   ]
  },
  {
   "cell_type": "code",
   "execution_count": 2,
   "metadata": {},
   "outputs": [],
   "source": [
    "from langchain_community.document_loaders.json_loader import JSONLoader\n",
    "\n",
    "# Define the metadata extraction function.\n",
    "def metadata_func(record: dict, metadata: dict) -> dict:\n",
    "    metadata[\"id\"] = record.get(\"id\")\n",
    "    metadata[\"title\"] = record.get(\"title\")\n",
    "    metadata[\"tags\"] = record.get(\"tags\")\n",
    "    metadata[\"images_list\"] = record.get(\"images_list\")\n",
    "    metadata[\"handle\"] = record.get(\"handle\")\n",
    "    return metadata\n",
    "\n",
    "\n",
    "loader = JSONLoader(\n",
    "    file_path='products.json',\n",
    "    jq_schema='.[]',\n",
    "    content_key=\"expanded_description\",\n",
    "    metadata_func=metadata_func\n",
    ")\n",
    "\n",
    "documents = loader.load()"
   ]
  },
  {
   "cell_type": "code",
   "execution_count": 7,
   "metadata": {},
   "outputs": [
    {
     "data": {
      "text/plain": [
       "0.0003005"
      ]
     },
     "execution_count": 7,
     "metadata": {},
     "output_type": "execute_result"
    }
   ],
   "source": [
    "from langchain.text_splitter import SentenceTransformersTokenTextSplitter\n",
    "splitter = SentenceTransformersTokenTextSplitter(chunk_overlap=0)\n",
    "\n",
    "def count_tokens(text):\n",
    "    return splitter.count_tokens(text=text)\n",
    "\n",
    "summed_tokens = 0\n",
    "\n",
    "for product in documents:\n",
    "    summed_tokens += count_tokens(product.page_content)\n",
    "\n",
    "summed_tokens / 1000 * 0.0001 "
   ]
  },
  {
   "cell_type": "code",
   "execution_count": null,
   "metadata": {},
   "outputs": [
    {
     "ename": "ImportError",
     "evalue": "cannot import name 'load_vectorstore' from 'utils' (c:\\Users\\Akash_windows11\\Desktop\\project_LLM_Search\\.venv\\lib\\site-packages\\utils\\__init__.py)",
     "output_type": "error",
     "traceback": [
      "\u001b[1;31m---------------------------------------------------------------------------\u001b[0m",
      "\u001b[1;31mImportError\u001b[0m                               Traceback (most recent call last)",
      "Cell \u001b[1;32mIn[8], line 1\u001b[0m\n\u001b[1;32m----> 1\u001b[0m \u001b[38;5;28;01mfrom\u001b[39;00m\u001b[38;5;250m \u001b[39m\u001b[38;5;21;01mutils\u001b[39;00m\u001b[38;5;250m \u001b[39m\u001b[38;5;28;01mimport\u001b[39;00m load_vectorstore\n\u001b[0;32m      2\u001b[0m \u001b[38;5;28;01mfrom\u001b[39;00m\u001b[38;5;250m \u001b[39m\u001b[38;5;21;01mdotenv\u001b[39;00m\u001b[38;5;250m \u001b[39m\u001b[38;5;28;01mimport\u001b[39;00m load_dotenv\n\u001b[0;32m      3\u001b[0m load_dotenv()\n",
      "\u001b[1;31mImportError\u001b[0m: cannot import name 'load_vectorstore' from 'utils' (c:\\Users\\Akash_windows11\\Desktop\\project_LLM_Search\\.venv\\lib\\site-packages\\utils\\__init__.py)"
     ]
    }
   ],
   "source": [
    "from utils import load_vectorstore\n",
    "from dotenv import load_dotenv\n",
    "load_dotenv()\n",
    "\n",
    "vectorstore = load_vectorstore(vectorstore_path=\"./shopify_langchaintesting_vectorstore\", index_name=\"products\")\n",
    "result = vectorstore.similarity_search(\"I want a adidas shoe for my child\")"
   ]
  },
  {
   "cell_type": "code",
   "execution_count": null,
   "metadata": {},
   "outputs": [],
   "source": [
    "for product in result:\n",
    "    print(product.page_content)\n",
    "    print(product.metadata[\"images_list\"])"
   ]
  },
  {
   "cell_type": "code",
   "execution_count": null,
   "metadata": {},
   "outputs": [],
   "source": [
    "import requests\n",
    "import os\n",
    "from dotenv import load_dotenv\n",
    "load_dotenv()\n",
    "header = {\n",
    "    \"Content-Type\": \"application/json\",\n",
    "    \"Authorization\": \"Bearer \" + os.getenv(\"SHOPIFY_STATIC_TOKEN\")\n",
    "}\n",
    "response = requests.get(\"https://shopify-test-14xv.onrender.com/product_search/\", params={\"query\": \"I want a adidas shoe for my child\", \"k\": 2}, headers=header)\n",
    "response.json()"
   ]
  },
  {
   "cell_type": "code",
   "execution_count": null,
   "metadata": {},
   "outputs": [],
   "source": [
    "import os\n",
    "import base64\n",
    "token_bytes = os.urandom(24)\n",
    "safe_token = base64.urlsafe_b64encode(token_bytes).decode('utf-8')\n",
    "print(safe_token)\n",
    "print(\"Token length:\", len(safe_token))"
   ]
  },
  {
   "cell_type": "code",
   "execution_count": null,
   "metadata": {},
   "outputs": [],
   "source": [
    "response.json()"
   ]
  },
  {
   "cell_type": "code",
   "execution_count": null,
   "metadata": {},
   "outputs": [],
   "source": [
    "from create_vectorstore import create_vectorstore, save_vectorstore\n",
    "from langchain.schema.document import Document\n",
    "\n",
    "doc = \"\"\"Send returns exclusively to the following return address:\n",
    "\n",
    "Do you want to return an unwanted item?\n",
    "\n",
    "We understand that sometimes an item is simply not right for you and you want your money back. As long as the item is still in its original condition, we accept returns, subject to the rules listed below, which also include fair usage rules.\n",
    "\n",
    "If you return an item within 30 days of the delivery date or the date your package was ready for pickup, we will initiate a refund to your original payment method.\n",
    "\n",
    "If you return an item between 31 and 45 days from the delivery date or the date your package was ready for pickup, we will issue you a WAAGEMANN gift voucher for the amount you paid. To learn more about our new return policy, please click here.\n",
    "\n",
    "If you want to return an item after the maximum return period, you can hope for goodwill on our part, as we aim for complete customer satisfaction.\n",
    "\n",
    "We do our best to process your refund within 14 days of receiving your returned item.\n",
    "\n",
    "If you prefer a refund within the above-mentioned periods but can't return the items to us for some reason, please contact us. However, a refund in this case is at our discretion.\n",
    "And then?\n",
    "\n",
    "After the respective return periods, we no longer accept returns for unwanted items. If you attempt to return something, we may send the item back to your default delivery address and ask you to cover the shipping costs.\n",
    "What happens to my refund if I paid with Klarna?\n",
    "\n",
    "If you have placed an order with Klarna, the payable amount is due within 14 days of placing the order. If you return items within 30 days, we will issue a full refund for you.\n",
    "\n",
    "If you choose to return items between 31 and 45 days from the delivery date or the date your package was ready for pickup, we will instead issue a gift voucher, and your payment obligation with Klarna remains. WAAGEMANN assumes no responsibility for these claims or any resulting fees, so please make sure you have settled the full amount!\n",
    "Original Condition\n",
    "\n",
    "We strive for complete customer satisfaction, and each return case is an individual case for us and is treated as such. In almost all cases, we always find a way to satisfy our customers.\n",
    "\n",
    "In principle, items that have been briefly used can also be returned, as long as they do not contradict the conditions listed below and have not suffered damage or defects due to your actions.\n",
    "\n",
    "Hygiene and the safety of our customers are super important to us, so certain items cannot be returned for a refund. These include:\n",
    "\n",
    "    Face + Body items if they have been opened or used, or if the protective seal has been removed\n",
    "    Underwear if the hygiene seal is no longer intact or if any tags are damaged\n",
    "    Swimwear if the hygiene seal is no longer intact or if any tags are damaged\n",
    "    Piercings and jewelry if the hygiene seal is no longer intact or damaged\n",
    "\n",
    "Your statutory rights are not affected.\n",
    "\n",
    "Of course, it's okay to try on an item as you would in a store, but please do not wear items you want to return. If an item is returned to us that is damaged, worn, or otherwise in an unacceptable condition, we will not be able to issue you a refund, and we may send the item back to you (and ask you to cover the shipping costs). All returns are checked upon arrival.\n",
    "\n",
    "All returned items should be sent back to us in their original condition and original packaging, including the price tag (e.g., shoes should be returned in their original shoebox).\n",
    "Responsibility\n",
    "\n",
    "Please make sure your items are securely packed and cannot be damaged in transit.\n",
    "\n",
    "Since the package is your responsibility until it reaches us, please obtain a shipping receipt!\n",
    "\n",
    "We assume no responsibility for items that are accidentally sent back to us (it can happen!). If we can find the items (which is not always possible) and you want them back, we may ask you to cover the shipping costs.\n",
    "Return Costs\n",
    "\n",
    "The buyer and customer generally bear the return costs.\n",
    "Package cannot be delivered or is refused\n",
    "\n",
    "If the package cannot be delivered to the buyer, or it is not accepted by the seller, we reserve the right to retain a delivery & service fee of €10 from the refund amount.\n",
    "Fair Use\n",
    "\n",
    "If we notice an unusual pattern in your returns that seems strange to us, and where we suspect, for example, that someone is wearing the ordered items and then returning them, or that someone is ordering and returning much more than even the most loyal WAAGEMANN customers would order, or that the returned items do not match what you ordered—then we may have to deactivate the respective account and any associated accounts. If this happens and you think we've made a mistake, please contact our customer service, and we'll be happy to discuss it with you.\n",
    "\n",
    "If your customer account has been deactivated and you need to make a valid return to us, our customer service can issue you a return label, but you must bear the costs for returning the goods.\n",
    "\n",
    "Please note that we reserve the right to take legal action against you if the items you are returning do not match those you ordered.\n",
    "Can I exchange my item?\n",
    "\n",
    "We generally offer an exchange, but you can still return your order to us. If you want to buy a different size or color, return the unwanted item, postage paid, and place a new order.\n",
    "\n",
    "\"\"\"\n",
    "\n",
    "refund = Document(page_content=doc)"
   ]
  },
  {
   "cell_type": "code",
   "execution_count": null,
   "metadata": {},
   "outputs": [],
   "source": [
    "from langchain.embeddings import OpenAIEmbeddings\n",
    "vec = create_vectorstore(documents=[refund], embeddings=OpenAIEmbeddings())\n",
    "save_vectorstore(vec, save_path=\"./shopify_langchaintesting_vectorstore\", index_name=\"refund\")"
   ]
  },
  {
   "cell_type": "code",
   "execution_count": 7,
   "metadata": {},
   "outputs": [
    {
     "ename": "NameError",
     "evalue": "name 'np' is not defined",
     "output_type": "error",
     "traceback": [
      "\u001b[1;31m---------------------------------------------------------------------------\u001b[0m",
      "\u001b[1;31mNameError\u001b[0m                                 Traceback (most recent call last)",
      "Cell \u001b[1;32mIn[7], line 24\u001b[0m\n\u001b[0;32m     22\u001b[0m \u001b[38;5;66;03m# Example of embedding documents\u001b[39;00m\n\u001b[0;32m     23\u001b[0m documents \u001b[38;5;241m=\u001b[39m [{\u001b[38;5;124m\"\u001b[39m\u001b[38;5;124mcontent\u001b[39m\u001b[38;5;124m\"\u001b[39m: \u001b[38;5;124m\"\u001b[39m\u001b[38;5;124mADIDAS | KID\u001b[39m\u001b[38;5;124m'\u001b[39m\u001b[38;5;124mS STAN SMITH - The classic look of a tennis shoe for kids!\u001b[39m\u001b[38;5;124m\"\u001b[39m}]\n\u001b[1;32m---> 24\u001b[0m embedded_docs \u001b[38;5;241m=\u001b[39m \u001b[43mgroq_embeddings\u001b[49m\u001b[38;5;241;43m.\u001b[39;49m\u001b[43membed_documents\u001b[49m\u001b[43m(\u001b[49m\u001b[43mdocuments\u001b[49m\u001b[43m)\u001b[49m\n\u001b[0;32m     26\u001b[0m \u001b[38;5;66;03m# Example of embedding query\u001b[39;00m\n\u001b[0;32m     27\u001b[0m query \u001b[38;5;241m=\u001b[39m \u001b[38;5;124m\"\u001b[39m\u001b[38;5;124mI want a Adidas shoe for my child\u001b[39m\u001b[38;5;124m\"\u001b[39m\n",
      "Cell \u001b[1;32mIn[7], line 10\u001b[0m, in \u001b[0;36mGroqEmbeddings.embed_documents\u001b[1;34m(self, documents)\u001b[0m\n\u001b[0;32m      7\u001b[0m \u001b[38;5;28;01mfor\u001b[39;00m doc \u001b[38;5;129;01min\u001b[39;00m documents:\n\u001b[0;32m      8\u001b[0m     \u001b[38;5;66;03m# Use Groq Cloud to get embeddings\u001b[39;00m\n\u001b[0;32m      9\u001b[0m     response \u001b[38;5;241m=\u001b[39m \u001b[38;5;28mself\u001b[39m\u001b[38;5;241m.\u001b[39mllm\u001b[38;5;241m.\u001b[39minvoke(doc[\u001b[38;5;124m\"\u001b[39m\u001b[38;5;124mcontent\u001b[39m\u001b[38;5;124m\"\u001b[39m])\n\u001b[1;32m---> 10\u001b[0m     embeddings\u001b[38;5;241m.\u001b[39mappend(\u001b[43mnp\u001b[49m\u001b[38;5;241m.\u001b[39marray(response\u001b[38;5;241m.\u001b[39mcontent)\u001b[38;5;241m.\u001b[39mastype(\u001b[38;5;124m'\u001b[39m\u001b[38;5;124mfloat32\u001b[39m\u001b[38;5;124m'\u001b[39m))  \u001b[38;5;66;03m# Ensure float32 type\u001b[39;00m\n\u001b[0;32m     11\u001b[0m \u001b[38;5;28;01mreturn\u001b[39;00m embeddings\n",
      "\u001b[1;31mNameError\u001b[0m: name 'np' is not defined"
     ]
    }
   ],
   "source": [
    "class GroqEmbeddings:\n",
    "    def __init__(self, llm):\n",
    "        self.llm = llm\n",
    "\n",
    "    def embed_documents(self, documents):\n",
    "        embeddings = []\n",
    "        for doc in documents:\n",
    "            # Use Groq Cloud to get embeddings\n",
    "            response = self.llm.invoke(doc[\"content\"])\n",
    "            embeddings.append(np.array(response.content).astype('float32'))  # Ensure float32 type\n",
    "        return embeddings\n",
    "\n",
    "    def embed_query(self, query):\n",
    "        # Create an embedding for the query\n",
    "        response = self.llm.invoke(query)\n",
    "        return np.array(response.content).astype('float32')  # Ensure float32 type\n",
    "\n",
    "\n",
    "# Initialize the Groq embeddings class\n",
    "groq_embeddings = GroqEmbeddings(llm)\n",
    "\n",
    "# Example of embedding documents\n",
    "documents = [{\"content\": \"ADIDAS | KID'S STAN SMITH - The classic look of a tennis shoe for kids!\"}]\n",
    "embedded_docs = groq_embeddings.embed_documents(documents)\n",
    "\n",
    "# Example of embedding query\n",
    "query = \"I want a Adidas shoe for my child\"\n",
    "query_embedding = groq_embeddings.embed_query(query)\n",
    "\n",
    "print(f\"Document Embedding: {embedded_docs}\")\n",
    "print(f\"Query Embedding: {query_embedding}\")\n",
    "\n",
    "# FAISS Vector Store\n",
    "def create_faiss_index(embeddings):\n",
    "    # Convert embeddings to numpy arrays\n",
    "    emb_np = np.array(embeddings).astype('float32')\n",
    "    \n",
    "    # Create a Faiss index\n",
    "    index = faiss.IndexFlatL2(emb_np.shape[1])  # L2 similarity\n",
    "    index.add(emb_np)\n",
    "    \n",
    "    return index\n",
    "\n",
    "# Create FAISS index for the embeddings\n",
    "faiss_index = create_faiss_index(embedded_docs)\n",
    "\n",
    "# Now let's query the index with the query embedding\n",
    "def search_faiss_index(query_embedding, faiss_index):\n",
    "    # Perform similarity search in the Faiss index\n",
    "    D, I = faiss_index.search(query_embedding, k=1)  # Search for top 1 match\n",
    "    return I  # Return the index of the best match\n",
    "\n",
    "# Perform a search\n",
    "search_result = search_faiss_index(query_embedding, faiss_index)\n",
    "print(f\"Search Result: {search_result}\")"
   ]
  }
 ],
 "metadata": {
  "kernelspec": {
   "display_name": ".venv",
   "language": "python",
   "name": "python3"
  },
  "language_info": {
   "codemirror_mode": {
    "name": "ipython",
    "version": 3
   },
   "file_extension": ".py",
   "mimetype": "text/x-python",
   "name": "python",
   "nbconvert_exporter": "python",
   "pygments_lexer": "ipython3",
   "version": "3.9.0"
  }
 },
 "nbformat": 4,
 "nbformat_minor": 2
}
